{
 "cells": [
  {
   "cell_type": "markdown",
   "metadata": {},
   "source": [
    "# Python Numbers, Arithmetic, and Variable Assignment Exercises\n",
    "\n",
    "In this notebook, you'll find a series of exercises ranging from basic arithmetic operations to more complex variable manipulation scenarios. Please read each exercise description carefully and write your solution code in the `# TODO` sections provided. Feel free to add more cells if needed.\n",
    "\n",
    "Don't hesitate to reach out for help or clarification on any of the exercises."
   ]
  },
  {
   "cell_type": "markdown",
   "metadata": {},
   "source": [
    "### Exercise 1: Working with Numbers\n",
    "\n",
    "**Objective:** Practice with arithmetic operations and explore the properties of different types of numbers in Python.\n",
    "\n",
    "- **Warm-up:** Perform arithmetic operations: addition, subtraction, multiplication, and division with integers and floating-point numbers. Notice how Python handles division with both types.\n",
    "- **Exploration:** Calculate the area of a circle with a radius of 5 units using the formula \\( \\pi r^2 \\). Use the `math` module for the value of \\( \\pi \\).\n",
    "- **Challenge:** Given a list of numbers, write a Python script to calculate their cumulative product. E.g., given \\([1, 2, 3, 4]\\), the script should return \\(24\\) because \\(1 \\times 2 \\times 3 \\times 4 = 24\\).\n"
   ]
  },
  {
   "cell_type": "code",
   "execution_count": null,
   "metadata": {},
   "outputs": [],
   "source": [
    "# TODO: Perform addition, subtraction, multiplication, and division with integers and floats.\n",
    "# Try to predict the outcome of 10 / 4 and 10 // 4 before running your code."
   ]
  },
  {
   "cell_type": "code",
   "execution_count": null,
   "metadata": {},
   "outputs": [],
   "source": [
    "import math\n",
    "# TODO: Calculate the area of a circle with a radius of 5. Use math.pi for a more accurate result."
   ]
  },
  {
   "cell_type": "code",
   "execution_count": null,
   "metadata": {},
   "outputs": [],
   "source": [
    "# TODO: Given the list numbers = [1, 2, 3, 4], calculate their cumulative product (1*2*3*4)."
   ]
  },
  {
   "cell_type": "markdown",
   "metadata": {},
   "source": [
    "### Exercise 2: Dive into Division\n",
    "\n",
    "**Objective:** Understand the differences between classic division and floor division, and practice using the modulo operator.\n",
    "\n",
    "- **Investigate:** Use both classic division (`/`) and floor division (`//`) on a series of odd and even numbers. Discuss the results.\n",
    "- **Application:** Calculate how many whole days and remaining hours are in 250 hours using floor division and the modulo operator.\n",
    "- **Real-world scenario:** You have 100 dollars, and each chocolate costs 7 dollars. How many chocolates can you buy, and how much money will you have left?"
   ]
  },
  {
   "cell_type": "code",
   "execution_count": null,
   "metadata": {},
   "outputs": [],
   "source": [
    "# TODO: Experiment with division and floor division with odd and even numbers."
   ]
  },
  {
   "cell_type": "code",
   "execution_count": null,
   "metadata": {},
   "outputs": [],
   "source": [
    "# TODO: Calculate how many whole days and remaining hours are in 250 hours."
   ]
  },
  {
   "cell_type": "code",
   "execution_count": null,
   "metadata": {},
   "outputs": [],
   "source": [
    "# TODO: You have 100 dollars, and each chocolate costs 7 dollars. Calculate how many chocolates you can buy and your remaining balance."
   ]
  },
  {
   "cell_type": "markdown",
   "metadata": {},
   "source": [
    "### Exercise 3: Variable Assignment and Operations\n",
    "\n",
    "**Objective:** Master variable assignment, reassignment, and in-place operators in Python.\n",
    "\n",
    "- **Basics:** Create a variable representing a wallet amount. Subtract purchases from it using both reassignment and the `-=` operator. Discuss your findings.\n",
    "- **Moderate:** Write a Python program that swaps the values of two variables without using a temporary variable.\n",
    "- **Advanced:** Simulate a bank account with variables representing the account balance, deposit amount, and withdrawal amount. Perform deposits and withdrawals using `+=` and `-=` operators, ensuring the account balance cannot go negative.\n",
    "\n"
   ]
  },
  {
   "cell_type": "code",
   "execution_count": null,
   "metadata": {},
   "outputs": [],
   "source": [
    "# TODO: Create a variable for a wallet amount. Practice subtracting amounts from it using both reassignment and the -= operator."
   ]
  },
  {
   "cell_type": "code",
   "execution_count": null,
   "metadata": {},
   "outputs": [],
   "source": [
    "# TODO: Write a script that swaps the values of two variables without using a temporary variable."
   ]
  },
  {
   "cell_type": "code",
   "execution_count": null,
   "metadata": {},
   "outputs": [],
   "source": [
    "# TODO: Simulate a bank account with variables for account balance, deposits, and withdrawals. Ensure the account balance cannot go negative."
   ]
  },
  {
   "cell_type": "markdown",
   "metadata": {},
   "source": [
    "### Exercise 4: Dynamic Typing and Type Checking\n",
    "\n",
    "**Objective:** Explore Python's dynamic typing and practice checking and converting between different data types.\n",
    "\n",
    "- **Understanding dynamic typing:** Assign different types of values (integer, string, list) to the same variable, and use `type()` to verify how the variable's type changes.\n",
    "- **Type conversion:** Given a float number, convert it to an integer. Discuss what happens and how Python handles the conversion.\n",
    "- **Practical application:** Write a program that takes a string representation of a number (e.g., `'123'`) and calculates the square of the number. Ensure your program converts the string to an integer or float as necessary."
   ]
  },
  {
   "cell_type": "code",
   "execution_count": null,
   "metadata": {},
   "outputs": [],
   "source": [
    "# TODO: Assign different types of values to the same variable and check its type using type()."
   ]
  },
  {
   "cell_type": "code",
   "execution_count": null,
   "metadata": {},
   "outputs": [],
   "source": [
    "# TODO: Given a float, convert it to an integer. Discuss what happens."
   ]
  },
  {
   "cell_type": "code",
   "execution_count": null,
   "metadata": {},
   "outputs": [],
   "source": [
    "# TODO: Write a program that converts a string representation of a number (e.g., '123') to an integer and calculates its square."
   ]
  }
 ],
 "metadata": {
  "kernelspec": {
   "display_name": "Python 3",
   "language": "python",
   "name": "python3"
  },
  "language_info": {
   "codemirror_mode": {
    "name": "ipython",
    "version": 3
   },
   "file_extension": ".py",
   "mimetype": "text/x-python",
   "name": "python",
   "nbconvert_exporter": "python",
   "pygments_lexer": "ipython3",
   "version": "3.6.2"
  }
 },
 "nbformat": 4,
 "nbformat_minor": 2
}
