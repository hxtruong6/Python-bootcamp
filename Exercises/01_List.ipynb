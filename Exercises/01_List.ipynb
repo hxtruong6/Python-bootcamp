{
 "cells": [
  {
   "cell_type": "markdown",
   "metadata": {},
   "source": [
    "# Exercise 1: Understanding and Manipulating Lists\n",
    "- Creating and Accessing List Elements\n",
    "- Modifying and Extending Lists\n",
    "- List Comprehensions and Operations"
   ]
  },
  {
   "cell_type": "markdown",
   "metadata": {},
   "source": [
    "**Question 1**: Create a list named `fruits` that contains the following items: \"apple\", \"banana\", \"cherry\". Then, print the entire list.\n",
    "\n",
    "**Hint**: Use square brackets to create a list and separate items with commas.\n",
    "\n",
    "\n"
   ]
  },
  {
   "cell_type": "code",
   "execution_count": 1,
   "metadata": {},
   "outputs": [],
   "source": [
    "#TODO\n",
    "# Create the list fruits\n",
    "# Print the list"
   ]
  },
  {
   "cell_type": "markdown",
   "metadata": {},
   "source": [
    "**Question 2**: Access and print the first item in the `fruits` list you created.\n",
    "\n",
    "**Hint**: Remember, list indexing starts at 0.\n",
    "\n"
   ]
  },
  {
   "cell_type": "code",
   "execution_count": 2,
   "metadata": {},
   "outputs": [],
   "source": [
    "#TODO\n",
    "# Access and print the first item from the list\n"
   ]
  },
  {
   "cell_type": "markdown",
   "metadata": {},
   "source": [
    "**Question 3**: Add \"orange\" to the `fruits` list and print the updated list.\n",
    "\n",
    "**Hint**: Use the `.append()` method to add an item to the end of a list.\n",
    "\n",
    "\n"
   ]
  },
  {
   "cell_type": "code",
   "execution_count": 3,
   "metadata": {},
   "outputs": [],
   "source": [
    "#TODO\n",
    "# Add \"orange\" to the fruits list\n",
    "# Print the updated list"
   ]
  },
  {
   "cell_type": "markdown",
   "metadata": {},
   "source": [
    "**Question 4**: Change the second item of the `fruits` list to \"blueberry\" and print the updated list.\n",
    "\n",
    "**Hint**: Access the list item by its index and assign a new value.\n",
    "\n",
    "\n"
   ]
  },
  {
   "cell_type": "code",
   "execution_count": 4,
   "metadata": {},
   "outputs": [],
   "source": [
    "#TODO\n",
    "# Change the second item\n",
    "# Print the updated list"
   ]
  },
  {
   "cell_type": "markdown",
   "metadata": {},
   "source": [
    "**Question 5**: Use a list comprehension to create a new list named `uppercase_fruits` that contains all items from `fruits` in uppercase letters. Print the new list.\n",
    "\n",
    "**Hint**: Use the `.upper()` method on a string to convert it to uppercase.\n",
    "\n",
    "\n"
   ]
  },
  {
   "cell_type": "code",
   "execution_count": 5,
   "metadata": {},
   "outputs": [],
   "source": [
    "#TODO\n",
    "# Create a list comprehension that converts each item in fruits to uppercase\n",
    "# Print the new list"
   ]
  },
  {
   "cell_type": "markdown",
   "metadata": {},
   "source": [
    "**Question 6**: Create a new list named `filtered_fruits` that only includes fruits with more than 5 characters. Use a list comprehension and print the new list.\n",
    "\n",
    "**Hint**: Use `len()` to get the length of a string.\n",
    "\n",
    "\n"
   ]
  },
  {
   "cell_type": "code",
   "execution_count": 6,
   "metadata": {},
   "outputs": [],
   "source": [
    "#TODO\n",
    "# Create a list comprehension that filters fruits by length\n",
    "# Print the new list"
   ]
  },
  {
   "cell_type": "markdown",
   "metadata": {},
   "source": [
    "## Solutions\n"
   ]
  },
  {
   "cell_type": "code",
   "execution_count": 7,
   "metadata": {},
   "outputs": [
    {
     "name": "stdout",
     "output_type": "stream",
     "text": [
      "['apple', 'banana', 'cherry']\n"
     ]
    }
   ],
   "source": [
    "# Solution for Question 1\n",
    "fruits = [\"apple\", \"banana\", \"cherry\"]\n",
    "print(fruits)\n"
   ]
  },
  {
   "cell_type": "code",
   "execution_count": 8,
   "metadata": {},
   "outputs": [
    {
     "name": "stdout",
     "output_type": "stream",
     "text": [
      "apple\n"
     ]
    }
   ],
   "source": [
    "# Solution for Question 2\n",
    "print(fruits[0])\n"
   ]
  },
  {
   "cell_type": "code",
   "execution_count": 9,
   "metadata": {},
   "outputs": [
    {
     "name": "stdout",
     "output_type": "stream",
     "text": [
      "['apple', 'banana', 'cherry', 'orange']\n"
     ]
    }
   ],
   "source": [
    "# Solution for Question 3\n",
    "fruits.append(\"orange\")\n",
    "print(fruits)\n"
   ]
  },
  {
   "cell_type": "code",
   "execution_count": 10,
   "metadata": {},
   "outputs": [
    {
     "name": "stdout",
     "output_type": "stream",
     "text": [
      "['apple', 'blueberry', 'cherry', 'orange']\n"
     ]
    }
   ],
   "source": [
    "# Solution for Question 4\n",
    "fruits[1] = \"blueberry\"\n",
    "print(fruits)\n"
   ]
  },
  {
   "cell_type": "code",
   "execution_count": 11,
   "metadata": {},
   "outputs": [
    {
     "name": "stdout",
     "output_type": "stream",
     "text": [
      "['APPLE', 'BLUEBERRY', 'CHERRY', 'ORANGE']\n"
     ]
    }
   ],
   "source": [
    "# Solution for Question 5\n",
    "uppercase_fruits = [fruit.upper() for fruit in fruits]\n",
    "print(uppercase_fruits)\n"
   ]
  },
  {
   "cell_type": "code",
   "execution_count": 12,
   "metadata": {},
   "outputs": [
    {
     "name": "stdout",
     "output_type": "stream",
     "text": [
      "['blueberry', 'cherry', 'orange']\n"
     ]
    }
   ],
   "source": [
    "# Solution for Question 6\n",
    "filtered_fruits = [fruit for fruit in fruits if len(fruit) > 5]\n",
    "print(filtered_fruits)\n"
   ]
  },
  {
   "cell_type": "markdown",
   "metadata": {},
   "source": [
    "# Exercise 2: Advanced List Operations and Methods\n",
    "Basic: List Indexing and Slicing"
   ]
  },
  {
   "cell_type": "markdown",
   "metadata": {},
   "source": [
    "**Question 1**: Given the list `numbers = [10, 20, 30, 40, 50]`, print the third item and the last item using indexing.\n",
    "\n",
    "**Hint**: Remember, negative indices can retrieve items from the end of a list.\n",
    "\n"
   ]
  },
  {
   "cell_type": "code",
   "execution_count": null,
   "metadata": {},
   "outputs": [],
   "source": [
    "#TODO\n",
    "# Print the third item\n",
    "# Print the last item\n"
   ]
  },
  {
   "cell_type": "markdown",
   "metadata": {},
   "source": [
    "**Question 2**: Using the same `numbers` list, slice it to create a new list containing only the second and third items. Print the new list.\n",
    "\n",
    "**Hint**: Slicing uses `[start:end]` where `start` is inclusive and `end` is exclusive.\n",
    "\n"
   ]
  },
  {
   "cell_type": "code",
   "execution_count": null,
   "metadata": {},
   "outputs": [],
   "source": [
    "#TODO\n",
    "# Slice the list to create a new list with the second and third items\n",
    "# Print the new list\n"
   ]
  },
  {
   "cell_type": "markdown",
   "metadata": {},
   "source": [
    "**Question 3**: Add the numbers 60 and 70 to the end of the `numbers` list. Then, remove the first item from the list. Print the updated list after each operation.\n",
    "\n",
    "**Hint**: Use `.append()` to add items and `.pop()` without an index to remove the first item.\n",
    "\n"
   ]
  },
  {
   "cell_type": "code",
   "execution_count": null,
   "metadata": {},
   "outputs": [],
   "source": [
    "#TODO\n",
    "# Add numbers to the list\n",
    "# Remove the first item\n",
    "# Print the updated list after each operation\n"
   ]
  },
  {
   "cell_type": "markdown",
   "metadata": {},
   "source": [
    "**Question 4**: Create a copy of the `numbers` list and reverse it. Then sort the original `numbers` list in ascending order. Print both lists.\n",
    "\n",
    "**Hint**: Use `.copy()`, `.reverse()`, and `.sort()` methods.\n",
    "\n"
   ]
  },
  {
   "cell_type": "code",
   "execution_count": null,
   "metadata": {},
   "outputs": [],
   "source": [
    "#TODO\n",
    "# Create a copy and reverse it\n",
    "# Sort the original list\n",
    "# Print both lists\n"
   ]
  },
  {
   "cell_type": "markdown",
   "metadata": {},
   "source": [
    "## Solutions"
   ]
  },
  {
   "cell_type": "code",
   "execution_count": 13,
   "metadata": {},
   "outputs": [
    {
     "name": "stdout",
     "output_type": "stream",
     "text": [
      "30\n",
      "50\n"
     ]
    }
   ],
   "source": [
    "# Solution for Question 1\n",
    "numbers = [10, 20, 30, 40, 50]\n",
    "print(numbers[2])  # Third item\n",
    "print(numbers[-1])  # Last item\n"
   ]
  },
  {
   "cell_type": "code",
   "execution_count": 14,
   "metadata": {},
   "outputs": [
    {
     "name": "stdout",
     "output_type": "stream",
     "text": [
      "[20, 30]\n"
     ]
    }
   ],
   "source": [
    "# Solution for Question 2\n",
    "sliced_numbers = numbers[1:3]\n",
    "print(sliced_numbers)\n"
   ]
  },
  {
   "cell_type": "code",
   "execution_count": 15,
   "metadata": {},
   "outputs": [
    {
     "name": "stdout",
     "output_type": "stream",
     "text": [
      "[10, 20, 30, 40, 50, 60, 70]\n",
      "[20, 30, 40, 50, 60, 70]\n"
     ]
    }
   ],
   "source": [
    "# Solution for Question 3\n",
    "numbers.append(60)\n",
    "numbers.append(70)\n",
    "print(numbers)  # After adding\n",
    "numbers.pop(0)\n",
    "print(numbers)  # After removing the first item\n"
   ]
  },
  {
   "cell_type": "code",
   "execution_count": 16,
   "metadata": {},
   "outputs": [
    {
     "name": "stdout",
     "output_type": "stream",
     "text": [
      "Reversed copy: [70, 60, 50, 40, 30, 20]\n",
      "Sorted original: [20, 30, 40, 50, 60, 70]\n"
     ]
    }
   ],
   "source": [
    "# Solution for Question 4\n",
    "numbers_copy = numbers.copy()\n",
    "numbers_copy.reverse()\n",
    "numbers.sort()\n",
    "print(\"Reversed copy:\", numbers_copy)\n",
    "print(\"Sorted original:\", numbers)\n"
   ]
  }
 ],
 "metadata": {
  "kernelspec": {
   "display_name": "python-bootcamp",
   "language": "python",
   "name": "python3"
  },
  "language_info": {
   "codemirror_mode": {
    "name": "ipython",
    "version": 3
   },
   "file_extension": ".py",
   "mimetype": "text/x-python",
   "name": "python",
   "nbconvert_exporter": "python",
   "pygments_lexer": "ipython3",
   "version": "3.12.2"
  }
 },
 "nbformat": 4,
 "nbformat_minor": 2
}
