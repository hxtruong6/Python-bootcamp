{
 "cells": [
  {
   "cell_type": "markdown",
   "metadata": {},
   "source": [
    "# Python Numbers, Arithmetic, and Variable Assignment Exercises\n",
    "\n",
    "In this notebook, you'll find a series of exercises ranging from basic arithmetic operations to more complex variable manipulation scenarios. Please read each exercise description carefully and write your solution code in the `# TODO` sections provided. Feel free to add more cells if needed.\n",
    "\n",
    "Don't hesitate to reach out for help or clarification on any of the exercises."
   ]
  },
  {
   "cell_type": "markdown",
   "metadata": {},
   "source": [
    "### Exercise 1: Working with Numbers\n",
    "\n",
    "**Objective:** Practice with arithmetic operations and explore the properties of different types of numbers in Python.\n",
    "\n",
    "- **Warm-up:** Perform arithmetic operations: addition, subtraction, multiplication, and division with integers and floating-point numbers. Notice how Python handles division with both types.\n",
    "- **Exploration:** Calculate the area of a circle with a radius of 5 units using the formula \\( \\pi r^2 \\). Use the `math` module for the value of \\( \\pi \\).\n",
    "- **Challenge:** Given a list of numbers, write a Python script to calculate their cumulative product. E.g., given \\([1, 2, 3, 4]\\), the script should return \\(24\\) because \\(1 \\times 2 \\times 3 \\times 4 = 24\\).\n"
   ]
  },
  {
   "cell_type": "code",
   "execution_count": 1,
   "metadata": {},
   "outputs": [
    {
     "name": "stdout",
     "output_type": "stream",
     "text": [
      "15\n",
      "5\n",
      "50\n",
      "2.0\n"
     ]
    }
   ],
   "source": [
    "# Warm-up solution\n",
    "# Addition, Subtraction, Multiplication, Division\n",
    "print(10 + 5)  # Addition\n",
    "print(10 - 5)  # Subtraction\n",
    "print(10 * 5)  # Multiplication\n",
    "print(10 / 5)  # Division with float result\n",
    "\n",
    "# Notice division with both integers results in a float"
   ]
  },
  {
   "cell_type": "code",
   "execution_count": 2,
   "metadata": {},
   "outputs": [
    {
     "name": "stdout",
     "output_type": "stream",
     "text": [
      "The area of a circle with radius 5 is 78.54\n"
     ]
    }
   ],
   "source": [
    "import math\n",
    "# TODO: Calculate the area of a circle with a radius of 5. Use math.pi for a more accurate result.\n",
    "\n",
    "radius = 5\n",
    "area_of_circle = math.pi * radius ** 2\n",
    "print(f\"The area of a circle with radius {radius} is {area_of_circle:.2f}\")\n"
   ]
  },
  {
   "cell_type": "code",
   "execution_count": 3,
   "metadata": {},
   "outputs": [
    {
     "name": "stdout",
     "output_type": "stream",
     "text": [
      "The cumulative product of [1, 2, 3, 4] is 24\n"
     ]
    }
   ],
   "source": [
    "# TODO: Given the list numbers = [1, 2, 3, 4], calculate their cumulative product (1*2*3*4).\n",
    "\n",
    "# Challenge solution\n",
    "numbers = [1, 2, 3, 4]\n",
    "cumulative_product = 1\n",
    "for number in numbers:\n",
    "    cumulative_product *= number\n",
    "print(f\"The cumulative product of {numbers} is {cumulative_product}\")\n"
   ]
  },
  {
   "cell_type": "markdown",
   "metadata": {},
   "source": [
    "### Exercise 2: Dive into Division\n",
    "\n",
    "**Objective:** Understand the differences between classic division and floor division, and practice using the modulo operator.\n",
    "\n",
    "- **Investigate:** Use both classic division (`/`) and floor division (`//`) on a series of odd and even numbers. Discuss the results.\n",
    "- **Application:** Calculate how many whole days and remaining hours are in 250 hours using floor division and the modulo operator.\n",
    "- **Real-world scenario:** You have 100 dollars, and each chocolate costs 7 dollars. How many chocolates can you buy, and how much money will you have left?"
   ]
  },
  {
   "cell_type": "code",
   "execution_count": 6,
   "metadata": {},
   "outputs": [
    {
     "name": "stdout",
     "output_type": "stream",
     "text": [
      "10 / 3 = 3.3333333333333335\n",
      "10 // 3 = 3\n",
      "10 % 3 = 1\n"
     ]
    }
   ],
   "source": [
    "# TODO: Experiment with division and floor division with odd and even numbers.\n",
    "\n",
    "# Classic division results in a float, while floor division truncates the decimal part, returning an integer.\n",
    "print(f\"10 / 3 = {10 / 3}\") # Classic division\n",
    "print(f\"10 // 3 = {10 // 3}\") # Floor division\n",
    "print(f\"10 % 3 = {10 % 3}\") # Modulo operation\n"
   ]
  },
  {
   "cell_type": "code",
   "execution_count": 7,
   "metadata": {},
   "outputs": [
    {
     "name": "stdout",
     "output_type": "stream",
     "text": [
      "250 hours are 10 days and 10 hours.\n"
     ]
    }
   ],
   "source": [
    "# TODO: Calculate how many whole days and remaining hours are in 250 hours.\n",
    "total_hours = 250\n",
    "days = total_hours // 24\n",
    "remaining_hours = total_hours % 24\n",
    "print(f\"{total_hours} hours are {days} days and {remaining_hours} hours.\")\n"
   ]
  },
  {
   "cell_type": "code",
   "execution_count": 8,
   "metadata": {},
   "outputs": [
    {
     "name": "stdout",
     "output_type": "stream",
     "text": [
      "You can buy 14 chocolates and will have 2 dollars left.\n"
     ]
    }
   ],
   "source": [
    "# TODO: You have 100 dollars, and each chocolate costs 7 dollars.\n",
    "# Calculate how many chocolates you can buy and your remaining balance.\n",
    "# Real-world scenario solution\n",
    "total_money = 100\n",
    "chocolate_cost = 7\n",
    "chocolates_bought = total_money // chocolate_cost\n",
    "remaining_money = total_money % chocolate_cost\n",
    "print(f\"You can buy {chocolates_bought} chocolates and will have {remaining_money} dollars left.\")\n"
   ]
  },
  {
   "cell_type": "markdown",
   "metadata": {},
   "source": [
    "### Exercise 3: Variable Assignment and Operations\n",
    "\n",
    "**Objective:** Master variable assignment, reassignment, and in-place operators in Python.\n",
    "\n",
    "- **Basics:** Create a variable representing a wallet amount. Subtract purchases from it using both reassignment and the `-=` operator. Discuss your findings.\n",
    "- **Moderate:** Write a Python program that swaps the values of two variables without using a temporary variable.\n",
    "- **Advanced:** Simulate a bank account with variables representing the account balance, deposit amount, and withdrawal amount. Perform deposits and withdrawals using `+=` and `-=` operators, ensuring the account balance cannot go negative.\n",
    "\n"
   ]
  },
  {
   "cell_type": "code",
   "execution_count": 9,
   "metadata": {},
   "outputs": [
    {
     "name": "stdout",
     "output_type": "stream",
     "text": [
      "Wallet amount after purchase: 30\n"
     ]
    }
   ],
   "source": [
    "# TODO: Create a variable for a wallet amount. Practice subtracting amounts from it using both reassignment and the -= operator.\n",
    "wallet_amount = 50\n",
    "purchase = 20\n",
    "wallet_amount -= purchase  # Using the -= operator\n",
    "print(f\"Wallet amount after purchase: {wallet_amount}\")\n"
   ]
  },
  {
   "cell_type": "code",
   "execution_count": 10,
   "metadata": {},
   "outputs": [
    {
     "name": "stdout",
     "output_type": "stream",
     "text": [
      "a: 10, b: 5\n"
     ]
    }
   ],
   "source": [
    "# TODO: Write a script that swaps the values of two variables without using a temporary variable.\n",
    "# Moderate solution\n",
    "a = 5\n",
    "b = 10\n",
    "a, b = b, a  # Swapping values\n",
    "print(f\"a: {a}, b: {b}\")\n"
   ]
  },
  {
   "cell_type": "code",
   "execution_count": 11,
   "metadata": {},
   "outputs": [
    {
     "name": "stdout",
     "output_type": "stream",
     "text": [
      "Current account balance: 1300\n"
     ]
    }
   ],
   "source": [
    "# TODO: Simulate a bank account with variables for account balance, deposits, and withdrawals. Ensure the account balance cannot go negative.\n",
    "\n",
    "# Advanced solution\n",
    "account_balance = 1000\n",
    "deposit_amount = 500\n",
    "withdrawal_amount = 200\n",
    "\n",
    "account_balance += deposit_amount\n",
    "account_balance -= withdrawal_amount\n",
    "\n",
    "if account_balance < 0:\n",
    "    print(\"Your account cannot go negative!\")\n",
    "else:\n",
    "    print(f\"Current account balance: {account_balance}\")\n"
   ]
  },
  {
   "cell_type": "markdown",
   "metadata": {},
   "source": [
    "### Exercise 4: Dynamic Typing and Type Checking\n",
    "\n",
    "**Objective:** Explore Python's dynamic typing and practice checking and converting between different data types.\n",
    "\n",
    "- **Understanding dynamic typing:** Assign different types of values (integer, string, list) to the same variable, and use `type()` to verify how the variable's type changes.\n",
    "- **Type conversion:** Given a float number, convert it to an integer. Discuss what happens and how Python handles the conversion.\n",
    "- **Practical application:** Write a program that takes a string representation of a number (e.g., `'123'`) and calculates the square of the number. Ensure your program converts the string to an integer or float as necessary."
   ]
  },
  {
   "cell_type": "code",
   "execution_count": 13,
   "metadata": {},
   "outputs": [
    {
     "name": "stdout",
     "output_type": "stream",
     "text": [
      "10 is of type <class 'int'>\n",
      "Hello is of type <class 'str'>\n",
      "[1, 2, 3] is of type <class 'list'>\n"
     ]
    }
   ],
   "source": [
    "# TODO: Assign different types of values to the same variable and check its type using type().\n",
    "\n",
    "# Understanding dynamic typing solution\n",
    "a = 10\n",
    "print(f\"{a} is of type {type(a)}\")\n",
    "a = \"Hello\"\n",
    "print(f\"{a} is of type {type(a)}\")\n",
    "a = [1, 2, 3]\n",
    "print(f\"{a} is of type {type(a)}\")\n"
   ]
  },
  {
   "cell_type": "code",
   "execution_count": 14,
   "metadata": {},
   "outputs": [
    {
     "name": "stdout",
     "output_type": "stream",
     "text": [
      "Original: 10.5 (float), After conversion: 10 (int)\n"
     ]
    }
   ],
   "source": [
    "# TODO: Given a float, convert it to an integer. Discuss what happens.\n",
    "# Type conversion solution\n",
    "a = 10.5\n",
    "b = int(a)\n",
    "print(f\"Original: {a} (float), After conversion: {b} (int)\")\n",
    "# The decimal part is truncated during the conversion.\n"
   ]
  },
  {
   "cell_type": "code",
   "execution_count": 15,
   "metadata": {},
   "outputs": [
    {
     "name": "stdout",
     "output_type": "stream",
     "text": [
      "The square of 123 is 15129.\n"
     ]
    }
   ],
   "source": [
    "# TODO: Write a program that converts a string representation of a number (e.g., '123') to an integer and calculates its square.\n",
    "number_str = \"123\"\n",
    "number_int = int(number_str)\n",
    "number_squared = number_int ** 2\n",
    "print(f\"The square of {number_int} is {number_squared}.\")\n"
   ]
  },
  {
   "cell_type": "code",
   "execution_count": null,
   "metadata": {},
   "outputs": [],
   "source": []
  }
 ],
 "metadata": {
  "kernelspec": {
   "display_name": "Python 3",
   "language": "python",
   "name": "python3"
  },
  "language_info": {
   "codemirror_mode": {
    "name": "ipython",
    "version": 3
   },
   "file_extension": ".py",
   "mimetype": "text/x-python",
   "name": "python",
   "nbconvert_exporter": "python",
   "pygments_lexer": "ipython3",
   "version": "3.12.2"
  }
 },
 "nbformat": 4,
 "nbformat_minor": 2
}
