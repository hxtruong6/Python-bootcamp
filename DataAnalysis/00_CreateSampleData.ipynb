{
 "cells": [
  {
   "cell_type": "code",
   "execution_count": 2,
   "metadata": {},
   "outputs": [
    {
     "data": {
      "text/plain": [
       "'./customer_online_shopping.csv'"
      ]
     },
     "execution_count": 2,
     "metadata": {},
     "output_type": "execute_result"
    }
   ],
   "source": [
    "import pandas as pd\n",
    "\n",
    "# Creating a sample dataset for an online shopping scenario\n",
    "# data = {\n",
    "#     \"CustomerID\": [1, 2, 3, 4, 5],\n",
    "#     \"FirstName\": [\"John\", \"Jane\", \"Alex\", \"Emily\", \"Daniel\"],\n",
    "#     \"LastName\": [\"Doe\", \"Doe\", \"Smith\", \"Jones\", \"Brown\"],\n",
    "#     \"Age\": [28, 34, 23, 40, 29],\n",
    "#     \"Country\": [\"USA\", \"Canada\", \"Germany\", \"France\", \"USA\"],\n",
    "#     \"PurchaseAmount\": [120.50, 200.00, 15.75, 350.40, 99.99],\n",
    "#     \"ProductCategory\": [\"Electronics\", \"Clothing\", \"Books\", \"Home & Kitchen\", \"Electronics\"]\n",
    "# }\n",
    "\n",
    "# Random create 200 rows of data. Using some fake data from library\n",
    "import random\n",
    "from faker import Faker\n",
    "fake = Faker()\n",
    "\n",
    "data = {\n",
    "    \"CustomerID\": [i for i in range(1, 201)],\n",
    "    \"FirstName\": [fake.first_name() for _ in range(200)],\n",
    "    \"LastName\": [fake.last_name() for _ in range(200)],\n",
    "    \"Age\": [random.randint(18, 65) for _ in range(200)],\n",
    "    \"Country\": [fake.country() for _ in range(200)],\n",
    "    \"PurchaseAmount\": [round(random.uniform(10.0, 500.0), 2) for _ in range(200)],\n",
    "    \"ProductCategory\": [random.choice([\"Electronics\", \"Clothing\", \"Books\", \"Home & Kitchen\"]) for _ in range(200)]\n",
    "}\n",
    "\n",
    "\n",
    "# Creating a DataFrame\n",
    "df = pd.DataFrame(data)\n",
    "\n",
    "# Saving the DataFrame to a CSV file\n",
    "csv_file_path = './customer_online_shopping.csv'\n",
    "df.to_csv(csv_file_path, index=False)\n",
    "\n",
    "csv_file_path\n"
   ]
  },
  {
   "cell_type": "code",
   "execution_count": null,
   "metadata": {},
   "outputs": [],
   "source": []
  }
 ],
 "metadata": {
  "kernelspec": {
   "display_name": "python-bootcamp",
   "language": "python",
   "name": "python3"
  },
  "language_info": {
   "codemirror_mode": {
    "name": "ipython",
    "version": 3
   },
   "file_extension": ".py",
   "mimetype": "text/x-python",
   "name": "python",
   "nbconvert_exporter": "python",
   "pygments_lexer": "ipython3",
   "version": "3.12.2"
  }
 },
 "nbformat": 4,
 "nbformat_minor": 2
}
