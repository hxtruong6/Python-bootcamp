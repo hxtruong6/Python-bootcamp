{
    "cells": [
        {
            "cell_type": "markdown",
            "metadata": {},
            "source": [
                "# Challenge: Analyze Customer Online Shopping Data\n",
                "\n",
                "**Objective:** Use the provided online shopping dataset to gain insights into customer behavior and sales performance.\n",
                "\n",
                "### Instructions:\n",
                "\n",
                "1. **Load the Data:** Begin by loading the CSV data into a pandas DataFrame.\n",
                "2. **Data Exploration:**\n",
                "   - Display the first few rows of the dataset.\n",
                "   - Perform a basic summary of key statistics for numeric columns.\n",
                "\n",
                "3. **Data Analysis Challenges:**\n",
                "\n",
                "    a. **Total Sales Analysis**\n",
                "    - #TODO: Calculate the total sales from the `PurchaseAmount` column.\n",
                "    \n",
                "    b. **Category Sales Analysis**\n",
                "    - #TODO: Calculate the total sales for each `ProductCategory`.\n",
                "    \n",
                "    c. **Customer Demographics**\n",
                "    - #TODO: Determine the average age of the customers.\n",
                "    - #TODO: Find the distribution of customers by country.\n",
                "\n",
                "4. **Advanced Analysis (Optional):**\n",
                "    - #TODO: Identify the top 3 customers by total purchase amount.\n",
                "    - #TODO: Analyze the relationship between customer age and purchase amount. Consider using visualizations.\n",
                "\n",
                "### Solution Hints:\n",
                "\n",
                "- You can use `pd.read_csv()` to load the dataset.\n",
                "- Use `df.head()`, `df.describe()` for data exploration.\n",
                "- For analysis, functions like `df.sum()`, `df.groupby()`, and `df.mean()` will be useful.\n",
                "- For the advanced analysis, consider sorting values with `df.sort_values()` and visualizing with `import matplotlib.pyplot as plt` or `import seaborn as sns`.\n",
                "\n",
                "This challenge is designed to provide practical experience with real-world data analysis tasks using pandas, encouraging hands-on practice with data manipulation, aggregation, and visualization techniques."
            ]
        },
        {
            "cell_type": "code",
            "execution_count": 2,
            "metadata": {},
            "outputs": [],
            "source": [
                "import pandas as pd\n",
                "\n",
                "# Load the data\n",
                "df = pd.read_csv('./customer_online_shopping.csv')\n"
            ]
        },
        {
            "cell_type": "code",
            "execution_count": 3,
            "metadata": {},
            "outputs": [
                {
                    "data": {
                        "text/html": [
                            "<div>\n",
                            "<style scoped>\n",
                            "    .dataframe tbody tr th:only-of-type {\n",
                            "        vertical-align: middle;\n",
                            "    }\n",
                            "\n",
                            "    .dataframe tbody tr th {\n",
                            "        vertical-align: top;\n",
                            "    }\n",
                            "\n",
                            "    .dataframe thead th {\n",
                            "        text-align: right;\n",
                            "    }\n",
                            "</style>\n",
                            "<table border=\"1\" class=\"dataframe\">\n",
                            "  <thead>\n",
                            "    <tr style=\"text-align: right;\">\n",
                            "      <th></th>\n",
                            "      <th>CustomerID</th>\n",
                            "      <th>FirstName</th>\n",
                            "      <th>LastName</th>\n",
                            "      <th>Age</th>\n",
                            "      <th>Country</th>\n",
                            "      <th>PurchaseAmount</th>\n",
                            "      <th>ProductCategory</th>\n",
                            "    </tr>\n",
                            "  </thead>\n",
                            "  <tbody>\n",
                            "    <tr>\n",
                            "      <th>0</th>\n",
                            "      <td>1</td>\n",
                            "      <td>Carla</td>\n",
                            "      <td>Phillips</td>\n",
                            "      <td>57</td>\n",
                            "      <td>Saint Barthelemy</td>\n",
                            "      <td>301.82</td>\n",
                            "      <td>Clothing</td>\n",
                            "    </tr>\n",
                            "    <tr>\n",
                            "      <th>1</th>\n",
                            "      <td>2</td>\n",
                            "      <td>Jeffrey</td>\n",
                            "      <td>Gray</td>\n",
                            "      <td>21</td>\n",
                            "      <td>Montserrat</td>\n",
                            "      <td>13.83</td>\n",
                            "      <td>Clothing</td>\n",
                            "    </tr>\n",
                            "    <tr>\n",
                            "      <th>2</th>\n",
                            "      <td>3</td>\n",
                            "      <td>Nancy</td>\n",
                            "      <td>Robinson</td>\n",
                            "      <td>65</td>\n",
                            "      <td>Hong Kong</td>\n",
                            "      <td>102.41</td>\n",
                            "      <td>Clothing</td>\n",
                            "    </tr>\n",
                            "    <tr>\n",
                            "      <th>3</th>\n",
                            "      <td>4</td>\n",
                            "      <td>Christopher</td>\n",
                            "      <td>Jones</td>\n",
                            "      <td>37</td>\n",
                            "      <td>Hong Kong</td>\n",
                            "      <td>228.44</td>\n",
                            "      <td>Books</td>\n",
                            "    </tr>\n",
                            "    <tr>\n",
                            "      <th>4</th>\n",
                            "      <td>5</td>\n",
                            "      <td>Andrea</td>\n",
                            "      <td>Erickson</td>\n",
                            "      <td>34</td>\n",
                            "      <td>Tanzania</td>\n",
                            "      <td>359.78</td>\n",
                            "      <td>Home &amp; Kitchen</td>\n",
                            "    </tr>\n",
                            "  </tbody>\n",
                            "</table>\n",
                            "</div>"
                        ],
                        "text/plain": [
                            "   CustomerID    FirstName  LastName  Age           Country  PurchaseAmount  \\\n",
                            "0           1        Carla  Phillips   57  Saint Barthelemy          301.82   \n",
                            "1           2      Jeffrey      Gray   21        Montserrat           13.83   \n",
                            "2           3        Nancy  Robinson   65         Hong Kong          102.41   \n",
                            "3           4  Christopher     Jones   37         Hong Kong          228.44   \n",
                            "4           5       Andrea  Erickson   34          Tanzania          359.78   \n",
                            "\n",
                            "  ProductCategory  \n",
                            "0        Clothing  \n",
                            "1        Clothing  \n",
                            "2        Clothing  \n",
                            "3           Books  \n",
                            "4  Home & Kitchen  "
                        ]
                    },
                    "execution_count": 3,
                    "metadata": {},
                    "output_type": "execute_result"
                }
            ],
            "source": [
                "# Display the first few rows of the dataset\n",
                "df.head()\n"
            ]
        },
        {
            "cell_type": "code",
            "execution_count": 4,
            "metadata": {},
            "outputs": [
                {
                    "data": {
                        "text/html": [
                            "<div>\n",
                            "<style scoped>\n",
                            "    .dataframe tbody tr th:only-of-type {\n",
                            "        vertical-align: middle;\n",
                            "    }\n",
                            "\n",
                            "    .dataframe tbody tr th {\n",
                            "        vertical-align: top;\n",
                            "    }\n",
                            "\n",
                            "    .dataframe thead th {\n",
                            "        text-align: right;\n",
                            "    }\n",
                            "</style>\n",
                            "<table border=\"1\" class=\"dataframe\">\n",
                            "  <thead>\n",
                            "    <tr style=\"text-align: right;\">\n",
                            "      <th></th>\n",
                            "      <th>CustomerID</th>\n",
                            "      <th>Age</th>\n",
                            "      <th>PurchaseAmount</th>\n",
                            "    </tr>\n",
                            "  </thead>\n",
                            "  <tbody>\n",
                            "    <tr>\n",
                            "      <th>count</th>\n",
                            "      <td>200.000000</td>\n",
                            "      <td>200.000000</td>\n",
                            "      <td>200.00000</td>\n",
                            "    </tr>\n",
                            "    <tr>\n",
                            "      <th>mean</th>\n",
                            "      <td>100.500000</td>\n",
                            "      <td>40.970000</td>\n",
                            "      <td>260.22725</td>\n",
                            "    </tr>\n",
                            "    <tr>\n",
                            "      <th>std</th>\n",
                            "      <td>57.879185</td>\n",
                            "      <td>14.849297</td>\n",
                            "      <td>136.22903</td>\n",
                            "    </tr>\n",
                            "    <tr>\n",
                            "      <th>min</th>\n",
                            "      <td>1.000000</td>\n",
                            "      <td>18.000000</td>\n",
                            "      <td>11.05000</td>\n",
                            "    </tr>\n",
                            "    <tr>\n",
                            "      <th>25%</th>\n",
                            "      <td>50.750000</td>\n",
                            "      <td>27.000000</td>\n",
                            "      <td>158.14250</td>\n",
                            "    </tr>\n",
                            "    <tr>\n",
                            "      <th>50%</th>\n",
                            "      <td>100.500000</td>\n",
                            "      <td>41.000000</td>\n",
                            "      <td>250.85000</td>\n",
                            "    </tr>\n",
                            "    <tr>\n",
                            "      <th>75%</th>\n",
                            "      <td>150.250000</td>\n",
                            "      <td>54.000000</td>\n",
                            "      <td>364.62000</td>\n",
                            "    </tr>\n",
                            "    <tr>\n",
                            "      <th>max</th>\n",
                            "      <td>200.000000</td>\n",
                            "      <td>65.000000</td>\n",
                            "      <td>499.53000</td>\n",
                            "    </tr>\n",
                            "  </tbody>\n",
                            "</table>\n",
                            "</div>"
                        ],
                        "text/plain": [
                            "       CustomerID         Age  PurchaseAmount\n",
                            "count  200.000000  200.000000       200.00000\n",
                            "mean   100.500000   40.970000       260.22725\n",
                            "std     57.879185   14.849297       136.22903\n",
                            "min      1.000000   18.000000        11.05000\n",
                            "25%     50.750000   27.000000       158.14250\n",
                            "50%    100.500000   41.000000       250.85000\n",
                            "75%    150.250000   54.000000       364.62000\n",
                            "max    200.000000   65.000000       499.53000"
                        ]
                    },
                    "execution_count": 4,
                    "metadata": {},
                    "output_type": "execute_result"
                }
            ],
            "source": [
                "# Perform a basic summary of key statistics for numeric columns\n",
                "df.describe()\n"
            ]
        },
        {
            "cell_type": "markdown",
            "metadata": {},
            "source": [
                "## Data Analysis Challenges\n",
                "a. Total Sales Analysis"
            ]
        },
        {
            "cell_type": "code",
            "execution_count": 5,
            "metadata": {},
            "outputs": [],
            "source": [
                "# TODO: Calculate the total sales from the PurchaseAmount column.\n",
                "# Hint: You can use df['PurchaseAmount'].sum() to calculate the total sales.\n"
            ]
        },
        {
            "cell_type": "markdown",
            "metadata": {},
            "source": [
                "b. Category Sales Analysis\n"
            ]
        },
        {
            "cell_type": "code",
            "execution_count": null,
            "metadata": {},
            "outputs": [],
            "source": [
                "# TODO: Calculate the total sales for each ProductCategory.\n",
                "# Hint: Consider using groupby() on 'ProductCategory' and then summing 'PurchaseAmount'.\n"
            ]
        },
        {
            "cell_type": "markdown",
            "metadata": {},
            "source": [
                "c. Customer Demographics\n"
            ]
        },
        {
            "cell_type": "code",
            "execution_count": 6,
            "metadata": {},
            "outputs": [],
            "source": [
                "# TODO: Determine the average age of the customers.\n",
                "# Hint: The mean() function can be used on the 'Age' column.\n"
            ]
        },
        {
            "cell_type": "code",
            "execution_count": 7,
            "metadata": {},
            "outputs": [],
            "source": [
                "# TODO: Find the distribution of customers by country.\n",
                "# Hint: value_counts() can be used on the 'Country' column to find the distribution.\n"
            ]
        },
        {
            "cell_type": "markdown",
            "metadata": {},
            "source": [
                "## Advanced Analysis (Optional)\n"
            ]
        },
        {
            "cell_type": "code",
            "execution_count": 8,
            "metadata": {},
            "outputs": [],
            "source": [
                "# TODO: Identify the top 3 customers by total purchase amount.\n",
                "# Hint: You might need to group by 'CustomerID' or 'FirstName' and 'LastName', then sum the 'PurchaseAmount'. \n",
                "# After summing, sort the values and get the top 3 using head(3).\n"
            ]
        },
        {
            "cell_type": "code",
            "execution_count": 9,
            "metadata": {},
            "outputs": [],
            "source": [
                "# TODO: Analyze the relationship between customer age and purchase amount.\n",
                "# Consider using visualizations. You can use libraries like matplotlib or seaborn for plotting.\n",
                "# Hint: A scatter plot with 'Age' on one axis and 'PurchaseAmount' on the other can show any correlation between age and spending.\n"
            ]
        },
        {
            "cell_type": "code",
            "execution_count": null,
            "metadata": {},
            "outputs": [],
            "source": []
        }
    ],
    "metadata": {
        "kernelspec": {
            "display_name": "Python 3",
            "language": "python",
            "name": "python3"
        },
        "language_info": {
            "codemirror_mode": {
                "name": "ipython",
                "version": 3
            },
            "file_extension": ".py",
            "mimetype": "text/x-python",
            "name": "python",
            "nbconvert_exporter": "python",
            "pygments_lexer": "ipython3",
            "version": "3.12.2"
        }
    },
    "nbformat": 4,
    "nbformat_minor": 2
}
