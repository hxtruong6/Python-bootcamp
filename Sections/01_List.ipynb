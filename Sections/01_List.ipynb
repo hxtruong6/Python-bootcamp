{
 "cells": [
  {
   "cell_type": "markdown",
   "metadata": {},
   "source": [
    "# 1. Introduction to Lists\n",
    "\n",
    "- In Python, a list is a collection of items which can be of different types.\n",
    "- Think of it as a container that holds a bunch of objects under a single name.\n",
    "- Lists are created using square brackets [], with items separated by commas.\n"
   ]
  },
  {
   "cell_type": "markdown",
   "metadata": {},
   "source": [
    "## Why are lists important in data analysis?\n",
    "Lists are a fundamental data structure that you'll use in many data analysis tasks. \n",
    "\n",
    "\n",
    "For example, you might use a list to hold a series of dates in a time series, or to collect the results of some analysis, such as the mean sales figures for each quarter.\n",
    "\n",
    "Lists are particularly useful because they are ordered, changeable, and allow duplicate members.  This makes them suitable for holding datasets where order matters and where you might have repeated values.\n",
    "\n",
    "\n",
    "Here's a practical example of using lists in data analysis:\n",
    "\n",
    "Let's say we have a list of temperatures (in Celsius) for a week.\n",
    "```py\n",
    "temperatures = [22, 24, 19, 23, 25, 21, 20]\n",
    "```\n",
    "\n",
    "We can easily append a new temperature reading:\n",
    "```py\n",
    "temperatures.append(26)\n",
    "print(\"Temperatures after appending:\", temperatures)\n",
    "\n",
    "# We can calculate the average temperature:\n",
    "average_temp = sum(temperatures) / len(temperatures)\n",
    "print(\"Average temperature for the week:\", average_temp)\n",
    "```"
   ]
  },
  {
   "cell_type": "markdown",
   "metadata": {},
   "source": [
    "# Notebook Outline\n",
    "\n",
    "1. **Introduction to Lists**\n",
    "    - Explanation of lists as sequences in Python.\n",
    "    - Mutability of lists.\n",
    "2. **Creating Lists**\n",
    "    - Constructing lists with brackets and commas.\n",
    "    - Example: Creating a list of integers and mixed object types.\n",
    "    - The `len()` function.\n",
    "3. **Indexing and Slicing Lists**\n",
    "    - How indexing and slicing work.\n",
    "    - Examples: Indexing, slicing, and concatenating lists.\n",
    "4. **Basic List Methods**\n",
    "    - Flexibility of lists compared to arrays in other languages.\n",
    "    - Methods: `append()`, `pop()`, `reverse()`, and `sort()`.\n",
    "5. **Nesting Lists**\n",
    "    - Concept of nesting.\n",
    "    - Example: Creating a matrix as a list of lists.\n",
    "6. **List Comprehensions**\n",
    "    - Brief introduction and examples.\n",
    "    - Mention of the `for` loop deconstruction within a list comprehension.\n",
    "7. **List in Data Analysis**\n",
    "    - Practical example of using lists in data analysis.\n",
    "    - Example: Calculating the average temperature for a week.\n",
    "8. **Conclusion**\n"
   ]
  },
  {
   "cell_type": "markdown",
   "metadata": {},
   "source": [
    "# Content"
   ]
  },
  {
   "cell_type": "markdown",
   "metadata": {},
   "source": [
    "1. Introduction to Lists (Above)"
   ]
  },
  {
   "cell_type": "markdown",
   "metadata": {},
   "source": [
    "2. Creating Lists\n",
    "Lists are constructed with brackets [] and commas separating every element in the list."
   ]
  },
  {
   "cell_type": "code",
   "execution_count": 1,
   "metadata": {},
   "outputs": [
    {
     "name": "stdout",
     "output_type": "stream",
     "text": [
      "Example list of integers: [1, 2, 3]\n"
     ]
    }
   ],
   "source": [
    "# Example of creating a list\n",
    "my_list = [1, 2, 3]\n",
    "print(\"Example list of integers:\", my_list)"
   ]
  },
  {
   "cell_type": "code",
   "execution_count": 3,
   "metadata": {},
   "outputs": [
    {
     "data": {
      "text/plain": [
       "2"
      ]
     },
     "execution_count": 3,
     "metadata": {},
     "output_type": "execute_result"
    }
   ],
   "source": [
    "my_list[1]"
   ]
  },
  {
   "cell_type": "code",
   "execution_count": 4,
   "metadata": {},
   "outputs": [
    {
     "name": "stdout",
     "output_type": "stream",
     "text": [
      "List containing different object types: ['A string', 23, 100.232, 'o']\n"
     ]
    }
   ],
   "source": [
    "# Lists can hold different object types\n",
    "my_list = ['A string', 23, 100.232, 'o']\n",
    "print(\"List containing different object types:\", my_list)"
   ]
  },
  {
   "cell_type": "code",
   "execution_count": 5,
   "metadata": {},
   "outputs": [
    {
     "name": "stdout",
     "output_type": "stream",
     "text": [
      "The length of my_list: 4\n"
     ]
    }
   ],
   "source": [
    "\n",
    "# The len() function tells you how many items are in the list.\n",
    "print(\"The length of my_list:\", len(my_list))\n"
   ]
  },
  {
   "cell_type": "markdown",
   "metadata": {},
   "source": [
    "3. Indexing and Slicing Lists"
   ]
  },
  {
   "cell_type": "code",
   "execution_count": 6,
   "metadata": {},
   "outputs": [
    {
     "name": "stdout",
     "output_type": "stream",
     "text": [
      "Element at index 0: one\n"
     ]
    }
   ],
   "source": [
    "\n",
    "my_list = ['one', 'two', 'three', 4, 5]\n",
    "\n",
    "# Grab element at index 0\n",
    "print(\"Element at index 0:\", my_list[0])\n",
    "\n"
   ]
  },
  {
   "cell_type": "code",
   "execution_count": 7,
   "metadata": {},
   "outputs": [
    {
     "data": {
      "text/plain": [
       "5"
      ]
     },
     "execution_count": 7,
     "metadata": {},
     "output_type": "execute_result"
    }
   ],
   "source": [
    "my_list[4]"
   ]
  },
  {
   "cell_type": "code",
   "execution_count": 8,
   "metadata": {},
   "outputs": [
    {
     "ename": "IndexError",
     "evalue": "list index out of range",
     "output_type": "error",
     "traceback": [
      "\u001b[0;31m---------------------------------------------------------------------------\u001b[0m",
      "\u001b[0;31mIndexError\u001b[0m                                Traceback (most recent call last)",
      "Cell \u001b[0;32mIn[8], line 1\u001b[0m\n\u001b[0;32m----> 1\u001b[0m \u001b[43mmy_list\u001b[49m\u001b[43m[\u001b[49m\u001b[38;5;241;43m5\u001b[39;49m\u001b[43m]\u001b[49m\n",
      "\u001b[0;31mIndexError\u001b[0m: list index out of range"
     ]
    }
   ],
   "source": [
    "my_list[5]"
   ]
  },
  {
   "cell_type": "code",
   "execution_count": 14,
   "metadata": {},
   "outputs": [
    {
     "data": {
      "text/plain": [
       "'one'"
      ]
     },
     "execution_count": 14,
     "metadata": {},
     "output_type": "execute_result"
    }
   ],
   "source": [
    "my_list[-5]"
   ]
  },
  {
   "cell_type": "code",
   "execution_count": 13,
   "metadata": {},
   "outputs": [
    {
     "ename": "IndexError",
     "evalue": "list index out of range",
     "output_type": "error",
     "traceback": [
      "\u001b[0;31m---------------------------------------------------------------------------\u001b[0m",
      "\u001b[0;31mIndexError\u001b[0m                                Traceback (most recent call last)",
      "Cell \u001b[0;32mIn[13], line 1\u001b[0m\n\u001b[0;32m----> 1\u001b[0m \u001b[43mmy_list\u001b[49m\u001b[43m[\u001b[49m\u001b[38;5;241;43m-\u001b[39;49m\u001b[38;5;241;43m6\u001b[39;49m\u001b[43m]\u001b[49m\n",
      "\u001b[0;31mIndexError\u001b[0m: list index out of range"
     ]
    }
   ],
   "source": [
    "my_list[-6]"
   ]
  },
  {
   "cell_type": "code",
   "execution_count": null,
   "metadata": {},
   "outputs": [],
   "source": [
    "# Index: [-len(list) -> len(list) - 1]"
   ]
  },
  {
   "cell_type": "code",
   "execution_count": 15,
   "metadata": {},
   "outputs": [
    {
     "data": {
      "text/plain": [
       "['one', 'two', 'three', 4, 5]"
      ]
     },
     "execution_count": 15,
     "metadata": {},
     "output_type": "execute_result"
    }
   ],
   "source": [
    "my_list"
   ]
  },
  {
   "cell_type": "code",
   "execution_count": 17,
   "metadata": {},
   "outputs": [
    {
     "data": {
      "text/plain": [
       "['one', 'two', 'three', 4, 5]"
      ]
     },
     "execution_count": 17,
     "metadata": {},
     "output_type": "execute_result"
    }
   ],
   "source": [
    "my_list[0:len(my_list)]"
   ]
  },
  {
   "cell_type": "code",
   "execution_count": 18,
   "metadata": {},
   "outputs": [
    {
     "name": "stdout",
     "output_type": "stream",
     "text": [
      "Slice from index 1: ['two', 'three', 4, 5]\n",
      "Slice up to index 3: ['one', 'two', 'three']\n"
     ]
    }
   ],
   "source": [
    "# Slicing\n",
    "print(\"Slice from index 1:\", my_list[1:])\n",
    "print(\"Slice up to index 3:\", my_list[:3])\n"
   ]
  },
  {
   "cell_type": "code",
   "execution_count": 20,
   "metadata": {},
   "outputs": [
    {
     "data": {
      "text/plain": [
       "['two', 'three']"
      ]
     },
     "execution_count": 20,
     "metadata": {},
     "output_type": "execute_result"
    }
   ],
   "source": [
    "my_list[1:3]"
   ]
  },
  {
   "cell_type": "code",
   "execution_count": null,
   "metadata": {},
   "outputs": [],
   "source": [
    "# my_list[start:stop] -> start, start + 1, ..., stop - 1\n",
    "# my_list[start:stop:step] -> start, start + step, start + 2*step, ..., start + n*step < stop"
   ]
  },
  {
   "cell_type": "code",
   "execution_count": 21,
   "metadata": {},
   "outputs": [
    {
     "data": {
      "text/plain": [
       "['one', 'three', 5]"
      ]
     },
     "execution_count": 21,
     "metadata": {},
     "output_type": "execute_result"
    }
   ],
   "source": [
    "my_list[0:5:2]"
   ]
  },
  {
   "cell_type": "code",
   "execution_count": 22,
   "metadata": {},
   "outputs": [
    {
     "name": "stdout",
     "output_type": "stream",
     "text": [
      "Concatenation example: ['one', 'two', 'three', 4, 5, 'new item']\n",
      "After reassignment: ['one', 'two', 'three', 4, 5, 'add new item permanently']\n",
      "Duplication example: ['one', 'two', 'three', 4, 5, 'add new item permanently', 'one', 'two', 'three', 4, 5, 'add new item permanently']\n"
     ]
    }
   ],
   "source": [
    "\n",
    "# Concatenation\n",
    "print(\"Concatenation example:\", my_list + ['new item'])\n",
    "\n",
    "# Reassignment for permanent change\n",
    "my_list = my_list + ['add new item permanently']\n",
    "print(\"After reassignment:\", my_list)\n",
    "\n",
    "# Duplication\n",
    "print(\"Duplication example:\", my_list * 2) # This will double the list\n",
    "\n"
   ]
  },
  {
   "cell_type": "code",
   "execution_count": 38,
   "metadata": {},
   "outputs": [
    {
     "data": {
      "text/plain": [
       "[1, 2, 3, 4, 5, 6, 'Hiii']"
      ]
     },
     "execution_count": 38,
     "metadata": {},
     "output_type": "execute_result"
    }
   ],
   "source": [
    "[1, 2, 3] + [4, 5, 6, \"Hiii\"]"
   ]
  },
  {
   "cell_type": "markdown",
   "metadata": {},
   "source": [
    "4. Basic List Methods"
   ]
  },
  {
   "cell_type": "code",
   "execution_count": 25,
   "metadata": {},
   "outputs": [
    {
     "data": {
      "text/plain": [
       "[1, 2, 3]"
      ]
     },
     "execution_count": 25,
     "metadata": {},
     "output_type": "execute_result"
    }
   ],
   "source": [
    "list1 = [1, 2, 3]\n",
    "list1\n"
   ]
  },
  {
   "cell_type": "code",
   "execution_count": 26,
   "metadata": {},
   "outputs": [
    {
     "name": "stdout",
     "output_type": "stream",
     "text": [
      "After append: [1, 2, 3, 'append me!']\n"
     ]
    }
   ],
   "source": [
    "# Append\n",
    "list1.append('append me!')\n",
    "print(\"After append:\", list1)\n"
   ]
  },
  {
   "cell_type": "code",
   "execution_count": 28,
   "metadata": {},
   "outputs": [
    {
     "data": {
      "text/plain": [
       "[1, 2, 3, 'append me!', [1, 2, 3], [1, 2, 3]]"
      ]
     },
     "execution_count": 28,
     "metadata": {},
     "output_type": "execute_result"
    }
   ],
   "source": [
    "list1.append([1, 2, 3])\n",
    "list1"
   ]
  },
  {
   "cell_type": "code",
   "execution_count": 30,
   "metadata": {},
   "outputs": [
    {
     "data": {
      "text/plain": [
       "3"
      ]
     },
     "execution_count": 30,
     "metadata": {},
     "output_type": "execute_result"
    }
   ],
   "source": [
    "list1[4][2]"
   ]
  },
  {
   "cell_type": "code",
   "execution_count": 31,
   "metadata": {},
   "outputs": [
    {
     "data": {
      "text/plain": [
       "[1, 2, 3, 'append me!', [1, 'Be Bong xinh dep', 3], [1, 2, 3]]"
      ]
     },
     "execution_count": 31,
     "metadata": {},
     "output_type": "execute_result"
    }
   ],
   "source": [
    "list1[4][1] = \"Be Bong xinh dep\"\n",
    "list1"
   ]
  },
  {
   "cell_type": "code",
   "execution_count": 36,
   "metadata": {},
   "outputs": [
    {
     "data": {
      "text/plain": [
       "'!'"
      ]
     },
     "execution_count": 36,
     "metadata": {},
     "output_type": "execute_result"
    }
   ],
   "source": [
    "list1[3][-1]"
   ]
  },
  {
   "cell_type": "code",
   "execution_count": 37,
   "metadata": {},
   "outputs": [
    {
     "ename": "TypeError",
     "evalue": "'int' object is not subscriptable",
     "output_type": "error",
     "traceback": [
      "\u001b[0;31m---------------------------------------------------------------------------\u001b[0m",
      "\u001b[0;31mTypeError\u001b[0m                                 Traceback (most recent call last)",
      "Cell \u001b[0;32mIn[37], line 1\u001b[0m\n\u001b[0;32m----> 1\u001b[0m \u001b[43mlist1\u001b[49m\u001b[43m[\u001b[49m\u001b[38;5;241;43m0\u001b[39;49m\u001b[43m]\u001b[49m\u001b[43m[\u001b[49m\u001b[38;5;241;43m0\u001b[39;49m\u001b[43m]\u001b[49m\n",
      "\u001b[0;31mTypeError\u001b[0m: 'int' object is not subscriptable"
     ]
    }
   ],
   "source": [
    "list1[0][0]"
   ]
  },
  {
   "cell_type": "code",
   "execution_count": 49,
   "metadata": {},
   "outputs": [
    {
     "name": "stdout",
     "output_type": "stream",
     "text": [
      "After pop: [2, 3, 'append me!', [1, 'Be Bong xinh dep', 3], [1, 2, 3]]\n",
      "Popped item: 1\n"
     ]
    }
   ],
   "source": [
    "# Pop\n",
    "poped_item = list1.pop(0)\n",
    "print(\"After pop:\", list1)\n",
    "print(\"Popped item:\", poped_item)"
   ]
  },
  {
   "cell_type": "code",
   "execution_count": 50,
   "metadata": {},
   "outputs": [
    {
     "name": "stdout",
     "output_type": "stream",
     "text": [
      "Be Bong xinh dep\n"
     ]
    }
   ],
   "source": [
    "print(list1[3].pop(1))"
   ]
  },
  {
   "cell_type": "code",
   "execution_count": 51,
   "metadata": {},
   "outputs": [
    {
     "data": {
      "text/plain": [
       "[2, 3, 'append me!', [1, 3], [1, 2, 3]]"
      ]
     },
     "execution_count": 51,
     "metadata": {},
     "output_type": "execute_result"
    }
   ],
   "source": [
    "list1"
   ]
  },
  {
   "cell_type": "code",
   "execution_count": 52,
   "metadata": {},
   "outputs": [
    {
     "name": "stdout",
     "output_type": "stream",
     "text": [
      "After reverse: ['c', 'b', 'x', 'e', 'a']\n",
      "After sort: ['a', 'b', 'c', 'e', 'x']\n"
     ]
    }
   ],
   "source": [
    "# Reverse and Sort\n",
    "new_list = ['a', 'e', 'x', 'b', 'c']\n",
    "new_list.reverse()\n",
    "print(\"After reverse:\", new_list)\n",
    "new_list.sort()\n",
    "print(\"After sort:\", new_list)"
   ]
  },
  {
   "cell_type": "code",
   "execution_count": 53,
   "metadata": {},
   "outputs": [],
   "source": [
    "new_list.sort(reverse=True)"
   ]
  },
  {
   "cell_type": "code",
   "execution_count": 54,
   "metadata": {},
   "outputs": [
    {
     "data": {
      "text/plain": [
       "['x', 'e', 'c', 'b', 'a']"
      ]
     },
     "execution_count": 54,
     "metadata": {},
     "output_type": "execute_result"
    }
   ],
   "source": [
    "new_list"
   ]
  },
  {
   "cell_type": "markdown",
   "metadata": {},
   "source": [
    "5. Nesting Lists"
   ]
  },
  {
   "cell_type": "code",
   "execution_count": 55,
   "metadata": {},
   "outputs": [
    {
     "name": "stdout",
     "output_type": "stream",
     "text": [
      "Matrix: [[1, 2, 3], [4, 5, 6], [7, 8, 9]]\n"
     ]
    }
   ],
   "source": [
    "# Nesting Lists\n",
    "lst_1 = [1, 2, 3]\n",
    "lst_2 = [4, 5, 6]\n",
    "lst_3 = [7, 8, 9]\n",
    "\n",
    "matrix = [lst_1, lst_2, lst_3]\n",
    "print(\"Matrix:\", matrix)"
   ]
  },
  {
   "cell_type": "code",
   "execution_count": 56,
   "metadata": {},
   "outputs": [
    {
     "name": "stdout",
     "output_type": "stream",
     "text": [
      "First item of matrix: [7, 8, 9]\n",
      "First item of the first list in matrix: 1\n"
     ]
    }
   ],
   "source": [
    "\n",
    "# Indexing in nested lists\n",
    "print(\"First item of matrix:\", matrix[2])\n",
    "print(\"First item of the first list in matrix:\", matrix[0][0])\n"
   ]
  },
  {
   "cell_type": "code",
   "execution_count": 57,
   "metadata": {},
   "outputs": [],
   "source": [
    "matrix.append([10, 11, [91, 92, 93, 94]])\n"
   ]
  },
  {
   "cell_type": "code",
   "execution_count": 58,
   "metadata": {},
   "outputs": [
    {
     "data": {
      "text/plain": [
       "[[1, 2, 3], [4, 5, 6], [7, 8, 9], [10, 11, [91, 92, 93, 94]]]"
      ]
     },
     "execution_count": 58,
     "metadata": {},
     "output_type": "execute_result"
    }
   ],
   "source": [
    "matrix"
   ]
  },
  {
   "cell_type": "code",
   "execution_count": 63,
   "metadata": {},
   "outputs": [
    {
     "data": {
      "text/plain": [
       "93"
      ]
     },
     "execution_count": 63,
     "metadata": {},
     "output_type": "execute_result"
    }
   ],
   "source": [
    "matrix[3][2][2]"
   ]
  },
  {
   "cell_type": "markdown",
   "metadata": {},
   "source": [
    "\n",
    "6. List Comprehensions\n",
    "\n",
    "List comprehensions are a concise way to create lists in Python. They allow you to generate a new list by applying an expression to each element of an existing list, or by applying a condition to filter the elements.\n",
    "\n",
    "Here's a simple example to illustrate the concept. Let's say we have a list of numbers and we want to create a new list that contains the squares of each number:\n",
    "\n",
    "\n"
   ]
  },
  {
   "cell_type": "code",
   "execution_count": 64,
   "metadata": {},
   "outputs": [
    {
     "name": "stdout",
     "output_type": "stream",
     "text": [
      "[1, 4, 9, 16, 25]\n"
     ]
    }
   ],
   "source": [
    "numbers = [1, 2, 3, 4, 5]\n",
    "squares = [x**2 for x in numbers]\n",
    "print(squares)"
   ]
  },
  {
   "cell_type": "code",
   "execution_count": 65,
   "metadata": {},
   "outputs": [
    {
     "data": {
      "text/plain": [
       "[123, 123, 345, 345]"
      ]
     },
     "execution_count": 65,
     "metadata": {},
     "output_type": "execute_result"
    }
   ],
   "source": [
    "[123, 123] + [345, 345]"
   ]
  },
  {
   "cell_type": "code",
   "execution_count": 66,
   "metadata": {},
   "outputs": [
    {
     "data": {
      "text/plain": [
       "['aabc', 'babc', 'cabc']"
      ]
     },
     "execution_count": 66,
     "metadata": {},
     "output_type": "execute_result"
    }
   ],
   "source": [
    "[item+\"abc\" for item in ['a', 'b', 'c']]\n",
    "# aabc, babc, cabc"
   ]
  },
  {
   "cell_type": "code",
   "execution_count": 68,
   "metadata": {},
   "outputs": [
    {
     "data": {
      "text/plain": [
       "[2.8284271247461903, 4.0, 9.486832980505138]"
      ]
     },
     "execution_count": 68,
     "metadata": {},
     "output_type": "execute_result"
    }
   ],
   "source": [
    "[k**(1/2) for k in [8, 16, 90]]"
   ]
  },
  {
   "cell_type": "code",
   "execution_count": 70,
   "metadata": {},
   "outputs": [
    {
     "data": {
      "text/plain": [
       "[144, 196, 256]"
      ]
     },
     "execution_count": 70,
     "metadata": {},
     "output_type": "execute_result"
    }
   ],
   "source": [
    "my_list = [12, 13, 14, 15, 16]\n",
    "[item**2 for item in my_list if item % 2 == 0 ]"
   ]
  },
  {
   "cell_type": "markdown",
   "metadata": {},
   "source": [
    "In this example, the list comprehension `[x**2 for x in numbers]` generates a new list called `squares`. It iterates over each element `x` in the `numbers` list, squares it using the expression `x**2`, and adds the result to `the squares` list.\n",
    "\n"
   ]
  },
  {
   "cell_type": "markdown",
   "metadata": {},
   "source": [
    "\n",
    "List comprehensions can also include conditional statements to filter the elements. For example, let's say we want to create a new list that contains only the even numbers from the original list:\n"
   ]
  },
  {
   "cell_type": "code",
   "execution_count": 71,
   "metadata": {},
   "outputs": [
    {
     "name": "stdout",
     "output_type": "stream",
     "text": [
      "[2, 4]\n"
     ]
    }
   ],
   "source": [
    "numbers = [1, 2, 3, 4, 5]\n",
    "even_numbers = [x for x in numbers if x % 2 == 0]\n",
    "print(even_numbers)"
   ]
  },
  {
   "cell_type": "markdown",
   "metadata": {},
   "source": [
    "In this case, the list comprehension `[x for x in numbers if x % 2 == 0]` filters the elements of the `numbers` list by checking if each element x is divisible by 2 (`x % 2 == 0`). Only the elements that satisfy the condition are included in the `even_numbers` list.\n",
    "\n",
    "List comprehensions are a powerful tool in Python for creating and manipulating lists in a concise and readable way. They can help simplify your code and make it more expressive."
   ]
  },
  {
   "cell_type": "markdown",
   "metadata": {},
   "source": [
    "# List Operations for Data Analysis\n"
   ]
  },
  {
   "cell_type": "code",
   "execution_count": 72,
   "metadata": {},
   "outputs": [],
   "source": [
    "# Assume we have a list of numbers representing yearly sales in millions.\n",
    "yearly_sales = [1.5, 2.3, 2.9, 3.1, 4.0, 5.2]\n"
   ]
  },
  {
   "cell_type": "code",
   "execution_count": 73,
   "metadata": {},
   "outputs": [
    {
     "name": "stdout",
     "output_type": "stream",
     "text": [
      "Filtered sales (>= 3 million): [3.1, 4.0, 5.2]\n"
     ]
    }
   ],
   "source": [
    "# 7. Filtering Data\n",
    "# Let's say we want to filter out sales below 3 million.\n",
    "filtered_sales = [sale for sale in yearly_sales if sale >= 3]\n",
    "print(\"Filtered sales (>= 3 million):\", filtered_sales)"
   ]
  },
  {
   "cell_type": "code",
   "execution_count": 74,
   "metadata": {},
   "outputs": [
    {
     "name": "stdout",
     "output_type": "stream",
     "text": [
      "Adjusted sales (increased by 10%): [1.6500000000000001, 2.53, 3.19, 3.4100000000000006, 4.4, 5.720000000000001]\n"
     ]
    }
   ],
   "source": [
    "# 8. Transforming List Items\n",
    "# We need to adjust the sales figures by a growth factor. Let's increase each sale by 10%.\n",
    "adjusted_sales = [sale * 1.1 for sale in yearly_sales]\n",
    "print(\"Adjusted sales (increased by 10%):\", adjusted_sales)\n"
   ]
  },
  {
   "cell_type": "code",
   "execution_count": 18,
   "metadata": {},
   "outputs": [
    {
     "name": "stdout",
     "output_type": "stream",
     "text": [
      "Average yearly sale: 3.1666666666666665\n"
     ]
    }
   ],
   "source": [
    "# 9. Aggregating Information from Lists\n",
    "# Let's calculate the average sale amount.\n",
    "average_sale = sum(yearly_sales) / len(yearly_sales)\n",
    "print(\"Average yearly sale:\", average_sale)\n"
   ]
  },
  {
   "cell_type": "code",
   "execution_count": 77,
   "metadata": {},
   "outputs": [
    {
     "name": "stdout",
     "output_type": "stream",
     "text": [
      "Yearly sales aggregated from monthly data: [600, 670, 750]\n"
     ]
    }
   ],
   "source": [
    "\n",
    "# 10. Working with Nested Lists for Data Analysis\n",
    "# Consider a list of lists where each sub-list contains monthly sales data for a year.\n",
    "monthly_sales_data = [\n",
    "    [150, 200, 250],  # Year 1\n",
    "    [180, 220, 270],  # Year 2\n",
    "    [210, 230, 310]   # Year 3\n",
    "]\n",
    "\n",
    "# Aggregate monthly sales into yearly sales\n",
    "yearly_sales_from_monthly = [sum(year) for year in monthly_sales_data]\n",
    "print(\"Yearly sales aggregated from monthly data:\", yearly_sales_from_monthly)\n"
   ]
  },
  {
   "cell_type": "code",
   "execution_count": 78,
   "metadata": {},
   "outputs": [
    {
     "name": "stdout",
     "output_type": "stream",
     "text": [
      "Maximum monthly sale per year: [250, 270, 310]\n"
     ]
    }
   ],
   "source": [
    "\n",
    "# 11. Extracting Specific Data Points\n",
    "# Let's extract the maximum sale from each year.\n",
    "max_sales_per_year = [max(year) for year in monthly_sales_data]\n",
    "print(\"Maximum monthly sale per year:\", max_sales_per_year)\n"
   ]
  },
  {
   "cell_type": "code",
   "execution_count": 79,
   "metadata": {},
   "outputs": [
    {
     "name": "stdout",
     "output_type": "stream",
     "text": [
      "Adjusted monthly sales with conditional increase:\n",
      " [[172.5, 229.99999999999997, 250], [206.99999999999997, 252.99999999999997, 270], [241.49999999999997, 264.5, 310]]\n"
     ]
    }
   ],
   "source": [
    "\n",
    "# 12. Advanced List Comprehensions with Conditional Logic\n",
    "# Increase monthly sales by 15% only for months where sales are below 250.\n",
    "adjusted_monthly_sales = [\n",
    "    [sale * 1.15 if sale < 250 else sale for sale in year]\n",
    "    for year in monthly_sales_data\n",
    "]\n",
    "print(\"Adjusted monthly sales with conditional increase:\\n\", adjusted_monthly_sales)\n"
   ]
  },
  {
   "cell_type": "markdown",
   "metadata": {},
   "source": [
    "# Conclusion\n",
    "\n",
    "- **Lists** in Python are **mutable** and **versatile**, essential for various programming and data analysis tasks.\n",
    "- They support **dynamic data storage**, including multiple data types and complex operations like filtering, transformation, and aggregation.\n",
    "- Mastery of lists is vital for efficient data management and analysis, showcasing their broad applicability in Python's programming landscape.\n"
   ]
  }
 ],
 "metadata": {
  "kernelspec": {
   "display_name": "python-bootcamp",
   "language": "python",
   "name": "python3"
  },
  "language_info": {
   "codemirror_mode": {
    "name": "ipython",
    "version": 3
   },
   "file_extension": ".py",
   "mimetype": "text/x-python",
   "name": "python",
   "nbconvert_exporter": "python",
   "pygments_lexer": "ipython3",
   "version": "3.12.2"
  }
 },
 "nbformat": 4,
 "nbformat_minor": 2
}
