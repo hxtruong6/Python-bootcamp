{
 "cells": [
  {
   "cell_type": "markdown",
   "metadata": {},
   "source": [
    "# Section 1: Introduction to Python\n",
    "\n",
    "## What is Python?\n",
    "Python is a high-level, interpreted, and general-purpose programming language that emphasizes readability and efficiency. Developed by Guido van Rossum and first released in 1991, Python has become one of the most popular programming languages in the world. It's used in various domains like web development, data analysis, artificial intelligence, scientific computing, and more.\n",
    "\n",
    "## Setting up the Environment\n",
    "To start coding in Python, you need to set up your development environment. This involves installing Python and choosing an Integrated Development Environment (IDE) or a code editor.\n",
    "\n",
    "### Installing Python\n",
    "- Visit the official Python website (https://python.org) and download the latest version of Python for your operating system.\n",
    "- Follow the installation instructions, ensuring you add Python to your system's PATH variable if you're on Windows.\n",
    "\n",
    "### Choosing an IDE or Code Editor\n",
    "Several excellent IDEs and code editors are available for Python development:\n",
    "- **PyCharm**: A powerful IDE for Python development, offering code analysis, a graphical debugger, integrated testing, and version control system integration.\n",
    "- **Visual Studio Code (VSCode)**: A lightweight but powerful code editor, supporting Python through extensions.\n",
    "- **Jupyter Notebook**: An open-source web application that allows you to create and share documents containing live code, equations, visualizations, and narrative text. Useful for data analysis and scientific research.\n"
   ]
  },
  {
   "cell_type": "markdown",
   "metadata": {},
   "source": [
    "\n",
    "# Section 2: Basic Syntax and Concepts\n",
    "\n",
    "## Hello World\n",
    "Let's start with the classic \"Hello World\" program in Python. It's a simple one-liner:\n",
    "\n",
    "```python\n",
    "print(\"Hello, World!\")\n"
   ]
  },
  {
   "cell_type": "code",
   "execution_count": 1,
   "metadata": {},
   "outputs": [
    {
     "name": "stdout",
     "output_type": "stream",
     "text": [
      "Hello World\n"
     ]
    }
   ],
   "source": [
    "print(\"Hello World\")"
   ]
  },
  {
   "cell_type": "code",
   "execution_count": 2,
   "metadata": {},
   "outputs": [],
   "source": [
    "my_string = \"Hello, Python!\"  # String\n",
    "my_int = 10                   # Integer\n",
    "my_float = 20.5               # Float\n",
    "my_bool = True                # Boolean\n"
   ]
  },
  {
   "cell_type": "code",
   "execution_count": null,
   "metadata": {},
   "outputs": [],
   "source": []
  }
 ],
 "metadata": {
  "kernelspec": {
   "display_name": "Python 3 (ipykernel)",
   "language": "python",
   "name": "python3"
  },
  "language_info": {
   "codemirror_mode": {
    "name": "ipython",
    "version": 3
   },
   "file_extension": ".py",
   "mimetype": "text/x-python",
   "name": "python",
   "nbconvert_exporter": "python",
   "pygments_lexer": "ipython3",
   "version": "3.12.2"
  }
 },
 "nbformat": 4,
 "nbformat_minor": 4
}
