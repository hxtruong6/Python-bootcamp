{
 "cells": [
  {
   "cell_type": "markdown",
   "metadata": {},
   "source": [
    "# Section 1: Introduction to Python\n",
    "\n",
    "## What is Python?\n",
    "Python is a high-level, interpreted, and general-purpose programming language that emphasizes readability and efficiency. Developed by Guido van Rossum and first released in 1991, Python has become one of the most popular programming languages in the world. It's used in various domains like web development, data analysis, artificial intelligence, scientific computing, and more.\n",
    "\n",
    "Programming languages:\n",
    "- **Low-level languages**: These languages are closer to machine code and are harder to read and write. Examples include Assembly language and C.\n",
    "- **High-level languages**: These languages are closer to human language and are easier to read and write. Examples include Python, Java, and JavaScript.\n",
    "\n",
    "Interpreted vs. Compiled languages:\n",
    "- **Interpreted languages**: These languages are executed line by line, with the source code being directly executed by an interpreter. Examples include Python, JavaScript, and Ruby.\n",
    "- **Compiled languages**: These languages are translated into machine code before execution. Examples include C, C++, and Java.\n",
    "\n"
   ]
  },
  {
   "cell_type": "markdown",
   "metadata": {},
   "source": [
    "\n",
    "## Setting up the Environment\n",
    "To start coding in Python, you need to set up your development environment. This involves installing Python and choosing an Integrated Development Environment (IDE) or a code editor.\n",
    "\n",
    "### Installing Python\n",
    "- Visit the official Python website (https://python.org) and download the latest version of Python for your operating system.\n",
    "- Follow the installation instructions, ensuring you add Python to your system's PATH variable if you're on Windows.\n",
    "\n",
    "### Choosing an IDE or Code Editor\n",
    "Several excellent IDEs and code editors are available for Python development:\n",
    "- **PyCharm**: A powerful IDE for Python development, offering code analysis, a graphical debugger, integrated testing, and version control system integration.\n",
    "- **Visual Studio Code (VSCode)**: A lightweight but powerful code editor, supporting Python through extensions.\n",
    "- **Jupyter Notebook**: An open-source web application that allows you to create and share documents containing live code, equations, visualizations, and narrative text. Useful for data analysis and scientific research."
   ]
  },
  {
   "cell_type": "markdown",
   "metadata": {},
   "source": [
    "\n",
    "# Section 2: Basic Syntax and Concepts\n",
    "\n",
    "## Hello World\n",
    "Let's start with the classic \"Hello World\" program in Python. It's a simple one-liner:\n",
    "\n",
    "```python\n",
    "print(\"Hello, World!\")\n"
   ]
  },
  {
   "cell_type": "code",
   "execution_count": 2,
   "metadata": {},
   "outputs": [
    {
     "name": "stdout",
     "output_type": "stream",
     "text": [
      "Hello World\n",
      "Hello Be Bong\n"
     ]
    }
   ],
   "source": [
    "print(\"Hello World\")\n",
    "print(\"Hello Be Bong\")"
   ]
  },
  {
   "cell_type": "markdown",
   "metadata": {},
   "source": [
    "## Variables and Data Types\n",
    "In Python, variables are created when you assign a value to them. Python has various data types including strings, integers, floats, and booleans."
   ]
  },
  {
   "cell_type": "code",
   "execution_count": 3,
   "metadata": {},
   "outputs": [
    {
     "name": "stdout",
     "output_type": "stream",
     "text": [
      "1\n"
     ]
    }
   ],
   "source": [
    "my_string = \"Hello, Python!\"  # String\n",
    "my_int = 10                   # Integer\n",
    "my_float = 20.5               # Float\n",
    "my_bool = True                # Boolean\n"
   ]
  },
  {
   "cell_type": "code",
   "execution_count": 4,
   "metadata": {},
   "outputs": [
    {
     "name": "stdout",
     "output_type": "stream",
     "text": [
      "my_string: Hello, Python!\n",
      "my_int: 10\n",
      "my_float: 20.5\n",
      "my_bool: True\n"
     ]
    }
   ],
   "source": [
    "print(\"my_string:\", my_string)\n",
    "print(\"my_int:\", my_int)\n",
    "print(\"my_float:\", my_float)\n",
    "print(\"my_bool:\", my_bool)"
   ]
  },
  {
   "cell_type": "markdown",
   "metadata": {},
   "source": [
    "## Operators\n",
    "Operators are used to perform operations on variables and values. Python divides the operators in the following groups:\n",
    "\n",
    "- Arithmetic operators: +, -, *, /, //, **, %\n",
    "- Comparison operators: ==, !=, >, <, >=, <=\n",
    "- Logical operators: and, or, not\n",
    "- Assignment operators: =, +=, -=, *=, /=, etc."
   ]
  },
  {
   "cell_type": "code",
   "execution_count": 5,
   "metadata": {},
   "outputs": [],
   "source": [
    "# Arithmetic\n",
    "result = 10 + 5  # 15\n",
    "\n",
    "# Comparison\n",
    "is_equal = (10 == 5)  # False\n",
    "\n",
    "# Logical\n",
    "is_true = (10 > 5) and (10 < 20)  # True\n"
   ]
  },
  {
   "cell_type": "code",
   "execution_count": 6,
   "metadata": {},
   "outputs": [
    {
     "name": "stdout",
     "output_type": "stream",
     "text": [
      "result: 15\n",
      "is_equal: False\n",
      "is_true: True\n"
     ]
    }
   ],
   "source": [
    "print(\"result:\", result)\n",
    "print(\"is_equal:\", is_equal)\n",
    "print(\"is_true:\", is_true)\n"
   ]
  },
  {
   "cell_type": "code",
   "execution_count": null,
   "metadata": {},
   "outputs": [],
   "source": []
  }
 ],
 "metadata": {
  "kernelspec": {
   "display_name": "Python 3 (ipykernel)",
   "language": "python",
   "name": "python3"
  },
  "language_info": {
   "codemirror_mode": {
    "name": "ipython",
    "version": 3
   },
   "file_extension": ".py",
   "mimetype": "text/x-python",
   "name": "python",
   "nbconvert_exporter": "python",
   "pygments_lexer": "ipython3",
   "version": "3.12.2"
  }
 },
 "nbformat": 4,
 "nbformat_minor": 4
}
